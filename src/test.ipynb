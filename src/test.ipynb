{
 "cells": [
  {
   "cell_type": "code",
   "execution_count": 1,
   "id": "0522684f",
   "metadata": {},
   "outputs": [],
   "source": [
    "import analysis\n",
    "import pandas as pd"
   ]
  },
  {
   "cell_type": "code",
   "execution_count": 2,
   "id": "e902357c",
   "metadata": {},
   "outputs": [
    {
     "name": "stdout",
     "output_type": "stream",
     "text": [
      "retriving the results according to provided measurement ID\n",
      "Get the results progress: 100.0%:  ▋▋▋▋▋▋▋▋▋▋▋▋▋▋▋▋▋▋▋▋▋▋▋▋▋▋▋▋▋▋▋▋▋▋▋▋▋▋▋▋▋▋▋▋▋▋▋▋▋▋\n",
      "done\n"
     ]
    }
   ],
   "source": [
    "test_analysis = analysis.analysis(dc_name=\"imperva\",target=[\"45.60.155.44\", \"45.60.151.44\", \"45.60.159.44\", \"45.60.167.44\", \"45.60.171.44\", \"45.60.163.44\"], mtr_lst=[44104396, 44104397, 44104399, 44104400, 44104401, 44104402, 44104404, 44104405, 44104406, 44104407])"
   ]
  },
  {
   "cell_type": "code",
   "execution_count": 3,
   "id": "5be31363",
   "metadata": {
    "scrolled": true
   },
   "outputs": [
    {
     "name": "stdout",
     "output_type": "stream",
     "text": [
      "geolocating the phop...\n",
      "rdns-geo        progress: 100.0%:  ▋▋▋▋▋▋▋▋▋▋▋▋▋▋▋▋▋▋▋▋▋▋▋▋▋▋▋▋▋▋▋▋▋▋▋▋▋▋▋▋▋▋▋▋▋▋▋▋▋▋\n",
      "ipinfo-geo      progress: 100.0%:  ▋▋▋▋▋▋▋▋▋▋▋▋▋▋▋▋▋▋▋▋▋▋▋▋▋▋▋▋▋▋▋▋▋▋▋▋▋▋▋▋▋▋▋▋▋▋▋▋▋▋\n",
      "maxmind-geo     progress: 100.0%:  ▋▋▋▋▋▋▋▋▋▋▋▋▋▋▋▋▋▋▋▋▋▋▋▋▋▋▋▋▋▋▋▋▋▋▋▋▋▋▋▋▋▋▋▋▋▋▋▋▋▋\n",
      "nearest_prb_loc progress: 100.0%:  ▋▋▋▋▋▋▋▋▋▋▋▋▋▋▋▋▋▋▋▋▋▋▋▋▋▋▋▋▋▋▋▋▋▋▋▋▋▋▋▋▋▋▋▋▋▋▋▋▋▋\n",
      "location        progress: 100.0%:  ▋▋▋▋▋▋▋▋▋▋▋▋▋▋▋▋▋▋▋▋▋▋▋▋▋▋▋▋▋▋▋▋▋▋▋▋▋▋▋▋▋▋▋▋▋▋▋▋▋▋\n",
      "                 p_hop rdns-geo                           ipinfo-geo  \\\n",
      "80.81.193.87      1045     None  DE|Frankfurt am Main|50.1155,8.6842   \n",
      "87.186.181.234     448     None  DE|Frankfurt am Main|50.1155,8.6842   \n",
      "80.249.208.124     437     None          NL|Amsterdam|52.3740,4.8897   \n",
      "195.122.180.66     388     None  DE|Frankfurt am Main|50.1155,8.6842   \n",
      "62.115.187.154     371     None        DK|Copenhagen|55.6759,12.5655   \n",
      "...                ...      ...                                  ...   \n",
      "192.168.18.1         1     None                                 None   \n",
      "23.251.105.26        1     None      MX|Mexico City|19.4285,-99.1277   \n",
      "46.59.112.142        1     None         SE|Stockholm|59.3294,18.0687   \n",
      "192.168.4.1          1     None                                 None   \n",
      "193.114.170.227      1     None            GB|London|51.5085,-0.1257   \n",
      "\n",
      "                                              maxmind-geo  \\\n",
      "80.81.193.87                                         None   \n",
      "87.186.181.234                                       None   \n",
      "80.249.208.124        Netherlands|Schiphol|52.2973,4.7946   \n",
      "195.122.180.66   Germany|Frankfurt am Main|50.1188,8.6843   \n",
      "62.115.187.154                                       None   \n",
      "...                                                   ...   \n",
      "192.168.18.1                                         None   \n",
      "23.251.105.26                                        None   \n",
      "46.59.112.142            Sweden|Stockholm|59.3287,18.0717   \n",
      "192.168.4.1                                          None   \n",
      "193.114.170.227                                      None   \n",
      "\n",
      "                                          nearest_prb_loc  \\\n",
      "80.81.193.87                    ([50.1205, 8.7405], 0.43)   \n",
      "87.186.181.234    ([50.1095, 8.6785], 0.6000000000000001)   \n",
      "80.249.208.124                 ([52.3375, 4.9305], 0.597)   \n",
      "195.122.180.66                 ([48.2395, 8.7715], 0.729)   \n",
      "62.115.187.154   ([55.6115, 13.0105], 2.5380000000000003)   \n",
      "...                                                   ...   \n",
      "192.168.18.1                 ([42.5815, -71.0625], 0.318)   \n",
      "23.251.105.26                                        None   \n",
      "46.59.112.142                 ([59.2775, 17.9815], 3.069)   \n",
      "192.168.4.1                  ([39.9515, -75.1695], 0.522)   \n",
      "193.114.170.227                ([50.8805, 4.5015], 4.849)   \n",
      "\n",
      "                                                          location  \n",
      "80.81.193.87                   DE|Frankfurt am Main|50.1155,8.6842  \n",
      "87.186.181.234                 DE|Frankfurt am Main|50.1155,8.6842  \n",
      "80.249.208.124                         NL|Amsterdam|52.3740,4.8897  \n",
      "195.122.180.66                 DE|Frankfurt am Main|50.1155,8.6842  \n",
      "62.115.187.154                       DK|Copenhagen|55.6759,12.5655  \n",
      "...                                                            ...  \n",
      "192.168.18.1     12, Fieldstone Way, North Reading, Middlesex C...  \n",
      "23.251.105.26                      MX|Mexico City|19.4285,-99.1277  \n",
      "46.59.112.142                         SE|Stockholm|59.3294,18.0687  \n",
      "192.168.4.1      1716, Chestnut Street, Rittenhouse Square, Cen...  \n",
      "193.114.170.227                          GB|London|51.5085,-0.1257  \n",
      "\n",
      "[144 rows x 6 columns]\n",
      "mapping phop to the site ...\n",
      "In total, using RIPE Atlas can resolve 47 sites with 3 sites left unresolvable.\n"
     ]
    }
   ],
   "source": [
    "test_analysis.mapsite()"
   ]
  },
  {
   "cell_type": "code",
   "execution_count": null,
   "id": "dde27d87",
   "metadata": {},
   "outputs": [],
   "source": []
  },
  {
   "cell_type": "code",
   "execution_count": null,
   "id": "e65dd7c2",
   "metadata": {},
   "outputs": [],
   "source": [
    "a = {\"x\":(1,2)}"
   ]
  },
  {
   "cell_type": "code",
   "execution_count": null,
   "id": "e03ae751",
   "metadata": {},
   "outputs": [],
   "source": [
    "pd.DataFrame([a]).T"
   ]
  },
  {
   "cell_type": "code",
   "execution_count": null,
   "id": "4f333d2d",
   "metadata": {},
   "outputs": [],
   "source": []
  },
  {
   "cell_type": "code",
   "execution_count": null,
   "id": "a88475d8",
   "metadata": {},
   "outputs": [],
   "source": [
    "test_analysis.phop_pd"
   ]
  },
  {
   "cell_type": "code",
   "execution_count": null,
   "id": "161684fb",
   "metadata": {},
   "outputs": [],
   "source": [
    "%store -r measure_pd"
   ]
  },
  {
   "cell_type": "code",
   "execution_count": null,
   "id": "1c8b168e",
   "metadata": {},
   "outputs": [],
   "source": [
    "%store -r phop_pd"
   ]
  },
  {
   "cell_type": "code",
   "execution_count": null,
   "id": "39d02490",
   "metadata": {},
   "outputs": [],
   "source": [
    "test_analysis.measure.measure_pd = measure_pd\n",
    "test_analysis.phop_pd = phop_pd"
   ]
  },
  {
   "cell_type": "code",
   "execution_count": null,
   "id": "88c516e7",
   "metadata": {
    "scrolled": true
   },
   "outputs": [],
   "source": [
    "#test_analysis.mapsite()"
   ]
  },
  {
   "cell_type": "code",
   "execution_count": null,
   "id": "8f0fcf87",
   "metadata": {},
   "outputs": [],
   "source": [
    "test_analysis.reprePhop()"
   ]
  },
  {
   "cell_type": "code",
   "execution_count": null,
   "id": "b609ae6c",
   "metadata": {},
   "outputs": [],
   "source": [
    "test_analysis.geoanalysis()"
   ]
  },
  {
   "cell_type": "code",
   "execution_count": null,
   "id": "4b88468d",
   "metadata": {},
   "outputs": [],
   "source": [
    "test_analysis.measure.measure_pd['site_rank'].value_counts()"
   ]
  },
  {
   "cell_type": "code",
   "execution_count": null,
   "id": "7c04c570",
   "metadata": {},
   "outputs": [],
   "source": [
    "test_analysis.rtt_pd"
   ]
  },
  {
   "cell_type": "code",
   "execution_count": null,
   "id": "3e609589",
   "metadata": {},
   "outputs": [],
   "source": [
    "test_analysis.mapping_dc_lst = ['Newark, NJ, United States|40.735657,-74.1723667',\n",
    " 'London, United Kingdom|51.5072178,-0.1275862',\n",
    " 'Stockholm, Sweden|59.32932349999999,18.0685808',\n",
    " 'Paris, France|48.856614,2.3522219',\n",
    " 'Amsterdam, Netherlands|52.3675734,4.9041389',\n",
    " 'Sydney, NSW, Australia|-33.8688197,151.2092955',\n",
    " 'Ashburn, VA, United States|39.0437567,-77.4874416',\n",
    " 'Singapore, Singapore|1.352083,103.819836',\n",
    " 'Chicago, IL, United States|41.8781136,-87.6297982',\n",
    " 'Frankfurt, Germany|50.1109221,8.6821267',\n",
    " 'Johannesburg, South Africa|-26.2041028,28.0473051',\n",
    " 'Jakarta, Indonesia|-6.2087634,106.845599',\n",
    " 'Taipei, Taiwan|25.0329636,121.5654268',\n",
    " 'Tokyo, Japan|35.6761919,139.6503106',\n",
    " 'Copenhagen, Denmark|55.6760968,12.5683371',\n",
    " 'Madrid, Spain|40.4167754,-3.7037902',\n",
    " 'Istanbul, Turkey|41.0082376,28.9783589',\n",
    " 'Zürich, Switzerland|47.3768866,8.541694',\n",
    " 'Seattle, WA, United States|47.6062095,-122.3320708',\n",
    " 'Miami, FL, United States|25.7616798,-80.1917902',\n",
    " 'Vienna, Austria|48.2081743,16.3738189',\n",
    " 'Auckland, New Zealand|-36.85088270000001,174.7644881',\n",
    " 'Seoul, South Korea|37.566535,126.9779692',\n",
    " 'Santiago, Chile|-33.4488897,-70.6692655',\n",
    " 'Atlanta, GA, United States|33.7489954,-84.3879824',\n",
    " 'San Jose, CA, United States|37.33874,-121.8852525',\n",
    " 'Melbourne, VIC, Australia|-37.8136276,144.9630576',\n",
    " 'Warsaw, Poland|52.2296756,21.0122287',\n",
    " 'Osaka, Japan|34.6937249,135.5022535',\n",
    " 'Milan, Italy|45.4642035,9.189982',\n",
    " 'Mumbai, India|19.0759837,72.8776559',\n",
    " 'Tel Aviv, Israel|32.0852999,34.78176759999999',\n",
    " 'Hong Kong, Hong Kong|22.3193039,114.1693611',\n",
    " 'Vancouver, BC, Canada|49.2827291,-123.1207375',\n",
    " 'Bangkok, Thailand|13.7563309,100.5017651',\n",
    " 'Los Angeles, CA, United States|34.0522342,-118.2436849',\n",
    " 'Denver, CO, United States|39.7392358,-104.990251',\n",
    " 'Tultitlán, Mexico|19.6392125,-99.1668646',\n",
    " 'Dubai, United Arab Emirates|25.2048493,55.2707828',\n",
    " 'Dallas, TX, United States|32.7766642,-96.79698789999999',\n",
    " 'Toronto, ON, Canada|43.653226,-79.3831843',\n",
    " 'Buenos Aires, Argentina|-34.6036844,-58.3815591',\n",
    " 'Selangor, Malaysia|3.0738379,101.5183469',\n",
    " 'Cape Town, South Africa|-33.9248685,18.4240553',\n",
    " 'São Paulo, Brazil|-23.5557714,-46.6395571',\n",
    " 'New Delhi, India|28.6139391,77.2090212',\n",
    " 'Dublin, Ireland|53.3498053,-6.2603097']"
   ]
  },
  {
   "cell_type": "code",
   "execution_count": null,
   "id": "06610597",
   "metadata": {},
   "outputs": [],
   "source": [
    "test_analysis.rttanalysis(\"../test/imperva/ping_mid.txt\")"
   ]
  },
  {
   "cell_type": "code",
   "execution_count": null,
   "id": "e18d36c4",
   "metadata": {},
   "outputs": [],
   "source": [
    "with open(f\"../dataset/built-in/imperva[R].txt\") as f:\n",
    "    content = f.read()"
   ]
  },
  {
   "cell_type": "code",
   "execution_count": null,
   "id": "a8712e1b",
   "metadata": {},
   "outputs": [],
   "source": []
  },
  {
   "cell_type": "code",
   "execution_count": null,
   "id": "28a63f44",
   "metadata": {},
   "outputs": [],
   "source": []
  }
 ],
 "metadata": {
  "kernelspec": {
   "display_name": "Python 3",
   "language": "python",
   "name": "python3"
  },
  "language_info": {
   "codemirror_mode": {
    "name": "ipython",
    "version": 3
   },
   "file_extension": ".py",
   "mimetype": "text/x-python",
   "name": "python",
   "nbconvert_exporter": "python",
   "pygments_lexer": "ipython3",
   "version": "3.8.8"
  }
 },
 "nbformat": 4,
 "nbformat_minor": 5
}
